{
 "cells": [
  {
   "cell_type": "code",
   "execution_count": 10,
   "metadata": {},
   "outputs": [],
   "source": [
    "import os\n",
    "import time"
   ]
  },
  {
   "cell_type": "code",
   "execution_count": 3,
   "metadata": {},
   "outputs": [],
   "source": [
    "os.makedirs('./5-1-test/', exist_ok=True)"
   ]
  },
  {
   "cell_type": "code",
   "execution_count": 17,
   "metadata": {},
   "outputs": [],
   "source": [
    "from selenium import webdriver\n",
    "from selenium.webdriver.chrome.options import Options"
   ]
  },
  {
   "cell_type": "code",
   "execution_count": 18,
   "metadata": {},
   "outputs": [],
   "source": [
    "chrome_options = Options()\n",
    "chrome_options.add_argument('--headless')"
   ]
  },
  {
   "cell_type": "code",
   "execution_count": 21,
   "metadata": {},
   "outputs": [],
   "source": [
    "driver = webdriver.Chrome(chrome_options=chrome_options)\n",
    "driver.get(\"https://www.yelp.com/\")\n",
    "driver.get_screenshot_as_file('./5-1-test/1.png')\n",
    "driver.save_screenshot('./5-1-test/1.1.png')\n",
    "\n",
    "driver.find_element_by_link_text(\"Restaurants\").click()\n",
    "driver.get_screenshot_as_file('./5-1-test/2.png')\n",
    "\n",
    "driver.find_element_by_link_text(\"Write a Review\").click()\n",
    "driver.get_screenshot_as_file('./5-1-test/3.png')\n",
    "\n",
    "driver.find_element_by_link_text(\"Events\").click()\n",
    "driver.get_screenshot_as_file('./5-1-test/4.png')\n",
    "\n",
    "driver.find_element_by_link_text(\"Log In\").click()\n",
    "driver.get_screenshot_as_file('./5-1-test/5.png')\n",
    "\n",
    "driver.close()"
   ]
  },
  {
   "cell_type": "code",
   "execution_count": 20,
   "metadata": {},
   "outputs": [],
   "source": []
  },
  {
   "cell_type": "code",
   "execution_count": null,
   "metadata": {},
   "outputs": [],
   "source": []
  }
 ],
 "metadata": {
  "kernelspec": {
   "display_name": "Python [conda env:crawler]",
   "language": "python",
   "name": "conda-env-crawler-py"
  },
  "language_info": {
   "codemirror_mode": {
    "name": "ipython",
    "version": 3
   },
   "file_extension": ".py",
   "mimetype": "text/x-python",
   "name": "python",
   "nbconvert_exporter": "python",
   "pygments_lexer": "ipython3",
   "version": "3.7.0"
  }
 },
 "nbformat": 4,
 "nbformat_minor": 2
}
